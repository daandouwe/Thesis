{
 "cells": [
  {
   "cell_type": "code",
   "execution_count": 6,
   "metadata": {
    "collapsed": true
   },
   "outputs": [],
   "source": [
    "import json"
   ]
  },
  {
   "cell_type": "code",
   "execution_count": 7,
   "metadata": {},
   "outputs": [],
   "source": [
    "with open('../data/vocab/vocab.json') as f:\n",
    "    ptb = set(json.load(f).keys())\n",
    "\n",
    "with open('../data/vocab/semisup-vocab.json') as f:\n",
    "    semisup = set(json.load(f).keys())"
   ]
  },
  {
   "cell_type": "code",
   "execution_count": 8,
   "metadata": {
    "collapsed": true
   },
   "outputs": [],
   "source": [
    "ptb_count = len(ptb - semisup)\n",
    "semisup_count = len(semisup - ptb)\n",
    "intersect_count = len(ptb & semisup)"
   ]
  },
  {
   "cell_type": "code",
   "execution_count": 9,
   "metadata": {},
   "outputs": [
    {
     "name": "stdout",
     "output_type": "stream",
     "text": [
      "ptb_count: 2563\n",
      "semisup_count: 16984\n",
      "intersect_count: 23011\n"
     ]
    }
   ],
   "source": [
    "print('ptb_count:', ptb_count)\n",
    "print('semisup_count:', semisup_count)\n",
    "print('intersect_count:', intersect_count)"
   ]
  },
  {
   "cell_type": "code",
   "execution_count": null,
   "metadata": {
    "collapsed": true
   },
   "outputs": [],
   "source": []
  }
 ],
 "metadata": {
  "kernelspec": {
   "display_name": "Python 3",
   "language": "python",
   "name": "python3"
  }
 },
 "nbformat": 4,
 "nbformat_minor": 2
}
