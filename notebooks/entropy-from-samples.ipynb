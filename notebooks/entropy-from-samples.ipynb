{
 "cells": [
  {
   "cell_type": "code",
   "execution_count": 69,
   "metadata": {
    "collapsed": true
   },
   "outputs": [],
   "source": [
    "import os\n",
    "from collections import defaultdict\n",
    "\n",
    "import numpy as np\n",
    "\n",
    "CRF_SAMPLES = '../data/proposals/crf-test.props'\n",
    "RNNG_SAMPLES = '../data/proposals/rnng-test.props'\n",
    "DYER_SAMPLES = '../data/proposals/dyer-test.props'\n",
    "ENTROPIES_OUT = '../out/entropies'"
   ]
  },
  {
   "cell_type": "code",
   "execution_count": 70,
   "metadata": {},
   "outputs": [],
   "source": [
    "def nll_dict_from_samples(path):\n",
    "    nlls = defaultdict(list)\n",
    "    with open(path) as f:\n",
    "        for line in f:\n",
    "            index, nll, _ = line.strip().split(' ||| ')\n",
    "            nlls[int(index)].append(float(nll))\n",
    "    return nlls\n",
    "\n",
    "def read_nll_from_samples(path):\n",
    "    with open(path) as f:\n",
    "        nlls = [float(line.strip().split(' ||| ')[1]) for line in f]\n",
    "    return nlls\n",
    "\n",
    "rnng_nll = read_nll_from_samples(RNNG_SAMPLES)\n",
    "crf_nll = read_nll_from_samples(CRF_SAMPLES)\n",
    "dyer_nll = read_nll_from_samples(DYER_SAMPLES)"
   ]
  },
  {
   "cell_type": "markdown",
   "metadata": {},
   "source": [
    "## Print entropies"
   ]
  },
  {
   "cell_type": "code",
   "execution_count": 57,
   "metadata": {},
   "outputs": [],
   "source": [
    "crf_dict = nll_dict_from_samples(CRF_SAMPLES)\n",
    "dyer_dict = nll_dict_from_samples(DYER_SAMPLES)\n",
    "rnng_dict = nll_dict_from_samples(RNNG_SAMPLES)"
   ]
  },
  {
   "cell_type": "code",
   "execution_count": 58,
   "metadata": {
    "collapsed": true
   },
   "outputs": [],
   "source": [
    "def write_entropies(nlls_dict, path):\n",
    "    with open(path, 'w') as f:\n",
    "        for i, nlls in nlls_dict.items():\n",
    "            entropy = -np.mean(nlls)\n",
    "            print(i, entropy, file=f)"
   ]
  },
  {
   "cell_type": "code",
   "execution_count": 59,
   "metadata": {
    "collapsed": true
   },
   "outputs": [],
   "source": [
    "write_entropies(crf_dict, os.path.join(ENTROPIES_OUT, 'crf_entropies_approx.txt'))\n",
    "write_entropies(dyer_dict, os.path.join(ENTROPIES_OUT, 'dyer_entropies_approx.txt'))\n",
    "write_entropies(rnng_dict, os.path.join(ENTROPIES_OUT, 'rnng_entropies_approx.txt'))"
   ]
  },
  {
   "cell_type": "markdown",
   "metadata": {},
   "source": [
    "## Entropies"
   ]
  },
  {
   "cell_type": "code",
   "execution_count": 64,
   "metadata": {},
   "outputs": [
    {
     "data": {
      "text/plain": [
       "3.3100958276791683"
      ]
     },
     "execution_count": 64,
     "metadata": {},
     "output_type": "execute_result"
    }
   ],
   "source": [
    "- np.mean(rnng_nll)"
   ]
  },
  {
   "cell_type": "code",
   "execution_count": 22,
   "metadata": {},
   "outputs": [
    {
     "data": {
      "text/plain": [
       "5.276174141294909"
      ]
     },
     "execution_count": 22,
     "metadata": {},
     "output_type": "execute_result"
    }
   ],
   "source": [
    "- np.mean(crf_nll)"
   ]
  },
  {
   "cell_type": "code",
   "execution_count": 23,
   "metadata": {},
   "outputs": [
    {
     "data": {
      "text/plain": [
       "1.916661471623733"
      ]
     },
     "execution_count": 23,
     "metadata": {},
     "output_type": "execute_result"
    }
   ],
   "source": [
    "- np.mean(dyer_nll)"
   ]
  },
  {
   "cell_type": "markdown",
   "metadata": {},
   "source": [
    "## Variance (?)"
   ]
  },
  {
   "cell_type": "code",
   "execution_count": 26,
   "metadata": {},
   "outputs": [
    {
     "data": {
      "text/plain": [
       "10.319010052216576"
      ]
     },
     "execution_count": 26,
     "metadata": {},
     "output_type": "execute_result"
    }
   ],
   "source": [
    "np.var(dyer_nll)"
   ]
  },
  {
   "cell_type": "code",
   "execution_count": 27,
   "metadata": {},
   "outputs": [
    {
     "data": {
      "text/plain": [
       "19.156451063835185"
      ]
     },
     "execution_count": 27,
     "metadata": {},
     "output_type": "execute_result"
    }
   ],
   "source": [
    "np.var(rnng_nll)"
   ]
  },
  {
   "cell_type": "code",
   "execution_count": 28,
   "metadata": {},
   "outputs": [
    {
     "data": {
      "text/plain": [
       "29.28713166156486"
      ]
     },
     "execution_count": 28,
     "metadata": {},
     "output_type": "execute_result"
    }
   ],
   "source": [
    "np.var(crf_nll)"
   ]
  },
  {
   "cell_type": "markdown",
   "metadata": {},
   "source": [
    "## Lower temperature"
   ]
  },
  {
   "cell_type": "code",
   "execution_count": 109,
   "metadata": {},
   "outputs": [],
   "source": [
    "RNNG_TEMP_SAMPLES = '../out/sample-experiment/proposal=disc-rnng_temp=1.0_seed=1.props'\n",
    "\n",
    "rnng_temp1_dict = nll_dict_from_samples(RNNG_TEMP_SAMPLES)\n",
    "rnng_temp1_nlls = read_nll_from_samples(RNNG_TEMP_SAMPLES)"
   ]
  },
  {
   "cell_type": "code",
   "execution_count": 110,
   "metadata": {},
   "outputs": [],
   "source": [
    "write_entropies(rnng_temp1_dict, '../out/entropies/rnng_temp1_approx.txt')"
   ]
  },
  {
   "cell_type": "code",
   "execution_count": 111,
   "metadata": {},
   "outputs": [
    {
     "data": {
      "text/plain": [
       "2.1741025028481387"
      ]
     },
     "execution_count": 111,
     "metadata": {},
     "output_type": "execute_result"
    }
   ],
   "source": [
    "-np.mean(rnng_temp1_nlls)"
   ]
  },
  {
   "cell_type": "code",
   "execution_count": 112,
   "metadata": {},
   "outputs": [
    {
     "data": {
      "text/plain": [
       "3.3100958276791683"
      ]
     },
     "execution_count": 112,
     "metadata": {},
     "output_type": "execute_result"
    }
   ],
   "source": [
    "-np.mean(rnng_nll)"
   ]
  },
  {
   "cell_type": "code",
   "execution_count": null,
   "metadata": {
    "collapsed": true
   },
   "outputs": [],
   "source": []
  }
 ],
 "metadata": {
  "kernelspec": {
   "display_name": "Python 3",
   "language": "python",
   "name": "python3"
  },
  "language_info": {
   "codemirror_mode": {
    "name": "ipython",
    "version": 3
   },
   "file_extension": ".py",
   "mimetype": "text/x-python",
   "name": "python",
   "nbconvert_exporter": "python",
   "pygments_lexer": "ipython3",
   "version": "3.6.3"
  }
 },
 "nbformat": 4,
 "nbformat_minor": 2
}
