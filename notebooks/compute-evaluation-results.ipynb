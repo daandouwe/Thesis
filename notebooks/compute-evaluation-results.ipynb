{
 "cells": [
  {
   "cell_type": "code",
   "execution_count": 68,
   "metadata": {
    "collapsed": true
   },
   "outputs": [],
   "source": [
    "%matplotlib inline\n",
    "\n",
    "import os\n",
    "import json\n",
    "\n",
    "import pandas as pd\n",
    "import numpy as np\n",
    "import seaborn as sns\n",
    "import matplotlib.pyplot as plt\n",
    "\n",
    "MODEL_DIR = '../models'\n",
    "CRF_FILE = 'output/results_proposals=crf-test.tsv'\n",
    "DYER_FILE = 'output/results_proposals=dyer-test.tsv'"
   ]
  },
  {
   "cell_type": "code",
   "execution_count": 14,
   "metadata": {},
   "outputs": [],
   "source": [
    "folders = [d for d in os.listdir(MODEL_DIR) if d.startswith('gen-rnng_')]"
   ]
  },
  {
   "cell_type": "code",
   "execution_count": 15,
   "metadata": {},
   "outputs": [
    {
     "data": {
      "text/plain": [
       "['gen-rnng_dev=100.91',\n",
       " 'gen-rnng_dev=100.93',\n",
       " 'gen-rnng_dev=101.33',\n",
       " 'gen-rnng_dev=101.48',\n",
       " 'gen-rnng_dev=102.06',\n",
       " 'gen-rnng_dev=102.29',\n",
       " 'gen-rnng_dev=102.32',\n",
       " 'gen-rnng_dev=102.33',\n",
       " 'gen-rnng_dev=102.58',\n",
       " 'gen-rnng_dev=103.74']"
      ]
     },
     "execution_count": 15,
     "metadata": {},
     "output_type": "execute_result"
    }
   ],
   "source": [
    "folders"
   ]
  },
  {
   "cell_type": "markdown",
   "metadata": {},
   "source": [
    "## DiscRNNG\n",
    "\n",
    "These results are stored in the json files."
   ]
  },
  {
   "cell_type": "code",
   "execution_count": 75,
   "metadata": {},
   "outputs": [],
   "source": [
    "disc_results = dict(perplexity=[], fscore=[])\n",
    "\n",
    "for folder in folders:\n",
    "    with open(os.path.join(MODEL_DIR, folder, 'state.json')) as f:\n",
    "        state = json.load(f)\n",
    "        disc_results['fscore'].append(state['test-fscore'])\n",
    "        disc_results['perplexity'].append(state['test-perplexity'])\n",
    "        \n",
    "disc_results = pd.DataFrame(disc_results)"
   ]
  },
  {
   "cell_type": "code",
   "execution_count": 76,
   "metadata": {},
   "outputs": [
    {
     "name": "stdout",
     "output_type": "stream",
     "text": [
      "91.07300000000001 0.10263744172788217\n"
     ]
    }
   ],
   "source": [
    "print(disc_results['fscore'].mean(), disc_results['fscore'].std())"
   ]
  },
  {
   "cell_type": "code",
   "execution_count": 77,
   "metadata": {},
   "outputs": [
    {
     "name": "stdout",
     "output_type": "stream",
     "text": [
      "108.793 1.6038360265313893\n"
     ]
    }
   ],
   "source": [
    "print(disc_results['perplexity'].mean(), disc_results['perplexity'].std())"
   ]
  },
  {
   "cell_type": "markdown",
   "metadata": {},
   "source": [
    "## CRF and Dyer\n",
    "\n",
    "These results are saved in separate tsv files."
   ]
  },
  {
   "cell_type": "code",
   "execution_count": 42,
   "metadata": {},
   "outputs": [],
   "source": [
    "crf_results = pd.concat(\n",
    "    [pd.read_csv(os.path.join(MODEL_DIR, folder, CRF_FILE), sep='\\t') for folder in folders])\n",
    "\n",
    "dyer_results = pd.concat(\n",
    "    [pd.read_csv(os.path.join(MODEL_DIR, folder, DYER_FILE), sep='\\t') for folder in folders])"
   ]
  },
  {
   "cell_type": "markdown",
   "metadata": {},
   "source": [
    "Fscores"
   ]
  },
  {
   "cell_type": "code",
   "execution_count": 64,
   "metadata": {},
   "outputs": [
    {
     "name": "stdout",
     "output_type": "stream",
     "text": [
      "91.02799999999999 0.048716869083853136\n"
     ]
    }
   ],
   "source": [
    "print(crf_results['fscore'].mean(), crf_results['fscore'].std())"
   ]
  },
  {
   "cell_type": "code",
   "execution_count": 65,
   "metadata": {},
   "outputs": [
    {
     "name": "stdout",
     "output_type": "stream",
     "text": [
      "93.31899999999999 0.0932678341599523\n"
     ]
    }
   ],
   "source": [
    "print(dyer_results['fscore'].mean(), dyer_results['fscore'].std())"
   ]
  },
  {
   "cell_type": "markdown",
   "metadata": {},
   "source": [
    "Perplexity"
   ]
  },
  {
   "cell_type": "code",
   "execution_count": 66,
   "metadata": {},
   "outputs": [
    {
     "name": "stdout",
     "output_type": "stream",
     "text": [
      "117.78800000000001 2.0873949740712177\n"
     ]
    }
   ],
   "source": [
    "print(crf_results['perplexity'].mean(), crf_results['perplexity'].std())"
   ]
  },
  {
   "cell_type": "code",
   "execution_count": 67,
   "metadata": {},
   "outputs": [
    {
     "name": "stdout",
     "output_type": "stream",
     "text": [
      "107.803 1.5874791337211323\n"
     ]
    }
   ],
   "source": [
    "print(dyer_results['perplexity'].mean(), dyer_results['perplexity'].std())"
   ]
  },
  {
   "cell_type": "markdown",
   "metadata": {},
   "source": [
    "## Plot"
   ]
  },
  {
   "cell_type": "code",
   "execution_count": 55,
   "metadata": {},
   "outputs": [
    {
     "data": {
      "text/plain": [
       "<matplotlib.axes._subplots.AxesSubplot at 0x1a1d557588>"
      ]
     },
     "execution_count": 55,
     "metadata": {},
     "output_type": "execute_result"
    },
    {
     "data": {
      "image/png": "[encoded data removed]",
      "text/plain": [
       "<matplotlib.figure.Figure at 0x1a1d48b668>"
      ]
     },
     "metadata": {},
     "output_type": "display_data"
    }
   ],
   "source": [
    "dyer_results['proposals'] = 'dyer'\n",
    "crf_results['proposals'] = 'crf'\n",
    "\n",
    "results = pd.concat([dyer_results, crf_results])\n",
    "\n",
    "sns.violinplot(data=results, x='proposals', y='fscore', inner='stick', hue='proposals')"
   ]
  },
  {
   "cell_type": "code",
   "execution_count": 56,
   "metadata": {},
   "outputs": [
    {
     "data": {
      "text/plain": [
       "<matplotlib.axes._subplots.AxesSubplot at 0x1a1d7f3b70>"
      ]
     },
     "execution_count": 56,
     "metadata": {},
     "output_type": "execute_result"
    },
    {
     "data": {
      "image/png": "[encoded data removed]",
      "text/plain": [
       "<matplotlib.figure.Figure at 0x1a1d558d30>"
      ]
     },
     "metadata": {},
     "output_type": "display_data"
    }
   ],
   "source": [
    "dyer_results['proposals'] = 'dyer'\n",
    "crf_results['proposals'] = 'crf'\n",
    "\n",
    "results = pd.concat([dyer_results, crf_results])\n",
    "\n",
    "sns.violinplot(data=results, x='proposals', y='perplexity', inner='stick', hue='proposals')"
   ]
  },
  {
   "cell_type": "code",
   "execution_count": null,
   "metadata": {
    "collapsed": true
   },
   "outputs": [],
   "source": []
  }
 ],
 "metadata": {
  "kernelspec": {
   "display_name": "Python 3",
   "language": "python",
   "name": "python3"
  },
  "language_info": {
   "codemirror_mode": {
    "name": "ipython",
    "version": 3
   },
   "file_extension": ".py",
   "mimetype": "text/x-python",
   "name": "python",
   "nbconvert_exporter": "python",
   "pygments_lexer": "ipython3",
   "version": "3.6.3"
  }
 },
 "nbformat": 4,
 "nbformat_minor": 2
}
