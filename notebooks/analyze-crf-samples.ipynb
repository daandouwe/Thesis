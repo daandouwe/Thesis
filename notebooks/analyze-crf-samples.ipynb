{
 "cells": [
  {
   "cell_type": "code",
   "execution_count": 18,
   "metadata": {},
   "outputs": [],
   "source": [
    "from collections import defaultdict, Counter\n",
    "\n",
    "crf_path = '../data/proposals/crf-test.props'"
   ]
  },
  {
   "cell_type": "code",
   "execution_count": 88,
   "metadata": {},
   "outputs": [],
   "source": [
    "samples = defaultdict(set)\n",
    "with open(crf_path) as f:\n",
    "    for line in f:\n",
    "        i, logprob, tree = line.strip().split(' ||| ')\n",
    "        samples[int(i)].add((float(logprob), tree))"
   ]
  },
  {
   "cell_type": "code",
   "execution_count": 94,
   "metadata": {
    "scrolled": false
   },
   "outputs": [
    {
     "name": "stdout",
     "output_type": "stream",
     "text": [
      "1305 : 14 duplicates\n",
      "  > (S (NP The (ADJP financially struggling) station offers (NP programs)) (ADVP obviously) made (S (ADJP available)) (ADVP cheaply) (PP from (NP (NP its boss 's) other ventures)) .)\n",
      "     -3.24\n",
      "     -4.49\n",
      "     -8.53\n",
      "\n",
      "  > (S (NP The (ADJP financially struggling) station offers (NP programs)) (VP (ADVP obviously) (VP made (S (ADJP available)) (ADVP cheaply) (PP from (NP (NP its boss 's) other ventures)))) .)\n",
      "     -6.97\n",
      "     -2.91\n",
      "     -4.16\n",
      "\n",
      "  > (S (NP The (ADJP financially struggling) station offers (NP programs)) (ADVP obviously) (VP made (S (ADJP available)) (ADVP cheaply) (PP from (NP (NP its boss 's) other ventures))) .)\n",
      "     -4.18\n",
      "     -2.93\n",
      "     -5.3\n",
      "\n",
      "  > (S (NP The (ADJP financially struggling) station offers (NP programs)) (ADVP obviously) (VP made (S (ADJP available)) cheaply (PP from (NP (NP its boss 's) other ventures))) .)\n",
      "     -5.76\n",
      "     -4.5\n",
      "\n",
      "  > (S (NP The (ADJP financially struggling) station offers (NP programs)) (VP (ADVP obviously) (VP made (S (ADJP (S (ADJP available)) (ADVP cheaply) (PP from (NP (NP its boss 's) other ventures)))))) .)\n",
      "     -4.96\n",
      "     -6.21\n",
      "\n",
      "  > (S (NP The (ADJP financially struggling) station offers programs) (ADVP obviously) (VP made (ADJP available) (ADVP cheaply) (PP from (NP (NP its boss 's) other ventures))) .)\n",
      "     -6.21\n",
      "     -4.96\n",
      "\n",
      "  > (S (NP The (ADJP financially struggling) station offers programs) (VP (ADVP obviously) (VP made (S (ADJP available)) (ADVP cheaply) (PP from (NP (NP its boss 's) other ventures)))) .)\n",
      "     -4.0\n",
      "     -5.26\n",
      "\n",
      "  > (S (NP The (ADJP financially struggling) station offers programs) (ADVP obviously) (VP made (S (ADJP available)) (ADVP cheaply) (PP from (NP (NP its boss 's) other ventures))) .)\n",
      "     -4.03\n",
      "     -6.4\n",
      "\n",
      "  > (S (NP The (ADJP financially struggling) station offers (NP programs)) (ADVP obviously) (VP made (S (ADJP (S (ADJP available)) (ADVP cheaply))) (PP from (NP (NP its boss 's) other ventures))) .)\n",
      "     -4.47\n",
      "     -5.72\n",
      "\n",
      "  > (S (NP The (ADJP financially struggling) station offers (NP programs)) (ADVP obviously) made (ADJP available) (ADVP cheaply) (PP from (NP (NP its boss 's) other ventures)) .)\n",
      "     -4.17\n",
      "     -6.54\n",
      "\n",
      "  > (S (NP The (ADJP financially struggling) station offers (NP programs)) (ADVP obviously) (VP made (ADJP available) (ADVP cheaply) (PP from (NP (NP its boss 's) other ventures))) .)\n",
      "     -5.11\n",
      "     -3.86\n",
      "\n",
      "  > (S (NP The (ADJP financially struggling) station offers (NP programs)) (VP (ADVP obviously) (VP made (S (ADJP available)) cheaply (PP from (NP (NP its boss 's) other ventures)))) .)\n",
      "     -5.73\n",
      "     -4.48\n",
      "\n",
      "  > (S (NP The (ADJP financially struggling) station offers (NP programs)) (VP (ADVP obviously) (VP made (ADJP available) (ADVP (ADVP cheaply) (PP from (NP (NP its boss 's) other ventures))))) .)\n",
      "     -6.81\n",
      "     -8.06\n",
      "\n",
      "  > (S (NP The (ADJP financially struggling) station offers (NP programs)) (ADVP obviously) (VP made (ADJP available) cheaply (PP from (NP (NP its boss 's) other ventures))) .)\n",
      "     -6.69\n",
      "     -5.43\n",
      "\n",
      "1961 : 13 duplicates\n",
      "  > (S `` (NP (NP The only thing) (SBAR (S (NP you) (VP do n't (VP have))))) , '' (S (NP he) (VP said)) , `` is (NP the ` portfolio insurance ' phenomenon) (VP overlaid (PP on (NP the rest))) . '')\n",
      "     -5.21\n",
      "     -5.28\n",
      "     -7.38\n",
      "     -6.34\n",
      "\n",
      "  > (S `` (NP (NP The only thing) (SBAR (S (NP you) (VP do n't (VP have))))) (PRN , '' (S (NP he) (VP said)) ,) `` (VP is (NP (NP the ` portfolio insurance ' phenomenon) (VP overlaid (PP on (NP the rest))))) . '')\n",
      "     -3.95\n",
      "     -7.78\n",
      "     -7.44\n",
      "\n",
      "  > (S `` (NP (NP The only thing) (SBAR (S (NP you) (VP do n't (VP have))))) (PRN , '' (PRN (S (NP he) (VP said))) , ``) is (NP the ` portfolio insurance ' phenomenon) (VP overlaid (PP on (NP the rest))) . '')\n",
      "     -5.82\n",
      "     -8.18\n",
      "     -4.76\n",
      "\n",
      "  > (S `` (NP (NP The only thing) (SBAR (S (NP you) (VP do n't (VP have))))) , '' (S (NP he) (VP said)) , `` is (NP the ` (NP portfolio insurance ') phenomenon) (VP overlaid (PP on (NP the rest))) . '')\n",
      "     -9.32\n",
      "     -6.75\n",
      "\n",
      "  > (S `` (NP (NP The only thing) (SBAR (S (NP you) (VP do n't (VP have))))) (PRN , '' (S (NP he) (VP said)) ,) `` is (NP the ` portfolio insurance ' phenomenon) (VP overlaid (PP on (NP the rest))) . '')\n",
      "     -3.5\n",
      "     -4.56\n",
      "\n",
      "  > (S `` (S (NP The only thing) (SBAR (S (NP you) (VP do n't (VP have))))) , '' (PRN (S (NP he) (VP said))) , `` is (NP the ` portfolio insurance ' phenomenon) (VP overlaid (PP on (NP the rest))) . '')\n",
      "     -9.89\n",
      "     -10.11\n",
      "\n",
      "  > (S `` (NP (NP The only thing) (SBAR (S (NP you) (VP do n't (VP have))))) (PRN , '' (S (NP he) (VP said)) ,) `` (VP is (NP (NP the ` (NP portfolio insurance ') phenomenon) (VP overlaid (PP on (NP the rest))))) . '')\n",
      "     -4.69\n",
      "     -7.46\n",
      "\n",
      "  > (S `` (NP (NP The only thing) (SBAR (S (NP you) (VP do n't (VP have))))) (PRN , '' (S (NP he) (VP said)) , ``) (VP is (NP (NP the ` (NP portfolio insurance ') phenomenon) (VP overlaid (PP on (NP the rest))))) . '')\n",
      "     -4.66\n",
      "     -6.76\n",
      "\n",
      "  > (S `` (S (NP The only thing) (SBAR (S (NP you) (VP do n't (VP have))))) (PRN , '' (S (NP he) (VP said)) ,) `` is (NP (NP the ` portfolio insurance ' phenomenon) (VP overlaid (PP on (NP the rest)))) . '')\n",
      "     -5.99\n",
      "     -8.12\n",
      "\n",
      "  > (S `` (NP (NP The only thing) (SBAR (S (NP you) (VP do n't (VP have))))) (PRN , '' (S (NP he) (VP said)) , ``) is (NP (NP the ` (NP portfolio insurance ') phenomenon) (VP overlaid (PP on (NP the rest)))) . '')\n",
      "     -5.25\n",
      "     -6.32\n",
      "\n",
      "  > (S `` (NP (NP The only thing) (SBAR (S (NP you) (VP do n't (VP have))))) (PRN , '' (S (NP he) (VP said)) , ``) is (NP the ` portfolio insurance ' phenomenon) (VP overlaid (PP on (NP the rest))) . '')\n",
      "     -4.53\n",
      "     -3.47\n",
      "\n",
      "  > (S `` (NP (NP The only thing) (SBAR (S (NP you) (VP do n't (VP have))))) (PRN , '' (PRN (S (NP he) (VP said))) , ``) is (NP (NP the ` portfolio insurance ' phenomenon) (VP overlaid (PP on (NP the rest)))) . '')\n",
      "     -5.8\n",
      "     -6.86\n",
      "\n",
      "  > (S `` (S (NP The only thing) (SBAR (S (NP you) (VP do n't (VP have))))) , '' (S (NP he) (VP said)) , `` is (NP the ` portfolio insurance ' phenomenon) (VP overlaid (PP on (NP the rest))) . '')\n",
      "     -7.85\n",
      "     -7.79\n",
      "\n"
     ]
    }
   ],
   "source": [
    "for i in range(len(samples)):\n",
    "    logprobs, trees = zip(*samples[i])\n",
    "    trees_with_duplicates = [tree for tree, count in Counter(trees).most_common() if count > 1]\n",
    "    if len(trees_with_duplicates) > 0:\n",
    "        duplicates = []\n",
    "        for duplicate_tree in trees_with_duplicates:\n",
    "            \n",
    "        print(i, ':', len(duplicate_trees), 'duplicates')\n",
    "\n",
    "        for duplicate_tree in duplicate_trees:\n",
    "            print('  >', duplicate_tree)\n",
    "            for logprob, tree in samples[i]:\n",
    "                if tree == duplicate_tree:\n",
    "                    print('    ', round(logprob, 2))\n",
    "            print()"
   ]
  },
  {
   "cell_type": "code",
   "execution_count": 70,
   "metadata": {
    "scrolled": true
   },
   "outputs": [],
   "source": []
  },
  {
   "cell_type": "code",
   "execution_count": 71,
   "metadata": {
    "scrolled": true
   },
   "outputs": [
    {
     "data": {
      "text/plain": [
       "[]"
      ]
     },
     "execution_count": 71,
     "metadata": {},
     "output_type": "execute_result"
    }
   ],
   "source": []
  },
  {
   "cell_type": "code",
   "execution_count": null,
   "metadata": {
    "collapsed": true
   },
   "outputs": [],
   "source": []
  }
 ],
 "metadata": {
  "kernelspec": {
   "display_name": "Python 3",
   "language": "python",
   "name": "python3"
  },
  "language_info": {
   "codemirror_mode": {
    "name": "ipython",
    "version": 3
   },
   "file_extension": ".py",
   "mimetype": "text/x-python",
   "name": "python",
   "nbconvert_exporter": "python",
   "pygments_lexer": "ipython3",
   "version": "3.6.3"
  }
 },
 "nbformat": 4,
 "nbformat_minor": 2
}
