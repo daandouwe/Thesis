{
 "cells": [
  {
   "cell_type": "markdown",
   "metadata": {},
   "source": [
    "# Manual inspection"
   ]
  },
  {
   "cell_type": "code",
   "execution_count": 18,
   "metadata": {
    "collapsed": true
   },
   "outputs": [],
   "source": [
    "from collections import defaultdict, Counter\n",
    "\n",
    "import numpy as np\n",
    "import seaborn as sns\n",
    "import pandas as pd"
   ]
  },
  {
   "cell_type": "code",
   "execution_count": 19,
   "metadata": {
    "collapsed": true
   },
   "outputs": [],
   "source": [
    "def read_samples(file):\n",
    "    samples = defaultdict(list)\n",
    "    with open(file) as f:\n",
    "        lines = [line.strip().split(' ||| ') for line in f.readlines()]\n",
    "        for i, _, tree in lines:\n",
    "            samples[int(i)].append(tree)\n",
    "    return samples"
   ]
  },
  {
   "cell_type": "code",
   "execution_count": 20,
   "metadata": {},
   "outputs": [],
   "source": [
    "samples = read_samples('../data/proposals/dyer-test.props')"
   ]
  },
  {
   "cell_type": "code",
   "execution_count": 21,
   "metadata": {},
   "outputs": [],
   "source": [
    "counted_samples = dict((i, Counter(samples)) for i, samples in samples.items())"
   ]
  },
  {
   "cell_type": "code",
   "execution_count": 31,
   "metadata": {},
   "outputs": [],
   "source": [
    "sorted_samples = sorted(counted_samples.values(), key=lambda counter: len(counter), reverse=True)"
   ]
  },
  {
   "cell_type": "code",
   "execution_count": 42,
   "metadata": {
    "scrolled": false
   },
   "outputs": [],
   "source": [
    "# print('\\n\\n> '.join(sorted_samples[100].keys()))"
   ]
  },
  {
   "cell_type": "markdown",
   "metadata": {},
   "source": [
    "## Syneval lines"
   ]
  },
  {
   "cell_type": "code",
   "execution_count": 43,
   "metadata": {
    "collapsed": true
   },
   "outputs": [],
   "source": [
    "pos_samples = read_samples('../data/proposals/crf-syneval-pos.props')\n",
    "neg_samples = read_samples('../data/proposals/crf-syneval-neg.props')"
   ]
  },
  {
   "cell_type": "code",
   "execution_count": 63,
   "metadata": {
    "collapsed": true
   },
   "outputs": [],
   "source": [
    "counted_pos_samples = dict((i, Counter(samples)) for i, samples in pos_samples.items())\n",
    "counted_neg_samples = dict((i, Counter(samples)) for i, samples in neg_samples.items())"
   ]
  },
  {
   "cell_type": "code",
   "execution_count": 69,
   "metadata": {
    "scrolled": false
   },
   "outputs": [
    {
     "name": "stdout",
     "output_type": "stream",
     "text": [
      "76 (S (NP the author) (VP (VP knows (NP many different foreign languages)) and (VP likes (S (VP to (VP watch (NP television shows)))))))\n",
      "5 (S (NP the author) (VP (VP knows (NP many different foreign languages)) and (VP likes (S (VP to (VP watch television shows))))))\n",
      "4 (S (NP the author) (VP (VP knows (NP many different foreign languages)) and (VP likes (S (VP to (S (VP watch (NP television shows))))))))\n",
      "\n",
      "48 (S (NP the author) (VP (VP knows (NP many different foreign languages)) and (VP is (ADJP twenty (ADVP (NP three years) old)))))\n",
      "17 (S (NP the author) (VP (VP knows (NP many different foreign languages)) and (VP is (VP twenty (ADVP (NP three years) old)))))\n",
      "7 (S (NP the author) (VP (VP knows (NP many different foreign languages)) and (VP is twenty (ADVP (NP three years) old))))\n",
      "\n",
      "14 (S (NP the author) (VP (VP knows (NP many different foreign languages)) and (VP enjoys (S (VP (NP playing tennis) (PP with (NP colleagues)))))))\n",
      "11 (S (NP the author) (VP (VP knows (NP many different foreign languages)) and (VP enjoys (S (VP (NP playing (NP tennis)) (PP with (NP colleagues)))))))\n",
      "7 (S (NP the author) (VP (VP knows (NP many different foreign languages)) and (VP enjoys (S (VP playing (NP tennis) (PP with (NP colleagues)))))))\n",
      "\n",
      "36 (S (NP the author) (VP (VP knows (NP many different foreign languages)) and (VP writes (PP (PP in (NP a journal)) (NP every day)))))\n",
      "22 (S (NP the author) (VP (VP knows (NP many different foreign languages)) and (VP writes (PP in (NP a journal)) (NP every day))))\n",
      "14 (S (NP the author) (VP (VP knows (NP many different foreign languages)) and (VP writes in (NP (NP a journal) (NP every day)))))\n",
      "\n",
      "33 (S (NP the author) (VP likes (S (VP to (VP (VP watch (NP television shows)) and (VP knows (NP (ADJP many different) foreign languages)))))))\n",
      "14 (S (NP the author) (VP likes (S (VP to (VP (VP watch (NP television shows)) and (VP knows (NP many different foreign languages)))))))\n",
      "13 (S (NP the author) (VP (VP likes (S (VP to (VP watch (NP television shows))))) and (VP knows (NP (ADJP many different) foreign languages))))\n",
      "\n",
      "31 (S (NP the author) (VP (VP likes (S (VP to (VP watch (NP television shows))))) and (VP is (ADJP twenty (ADVP (NP three years) old)))))\n",
      "12 (S (NP the author) (VP (VP likes (S (VP to (VP watch (NP television shows))))) and (VP is (VP twenty (ADVP (NP three years) old)))))\n",
      "7 (S (NP the author) (VP (VP likes (S (VP to (VP watch (NP television shows))))) and (VP is twenty (ADVP (NP three years) old))))\n",
      "\n",
      "7 (S (NP the author) (VP likes (S (VP to (VP (VP watch (NP television shows)) and (VP enjoys (S (VP (NP playing (NP tennis)) (PP with (NP colleagues))))))))))\n",
      "6 (S (NP the author) (VP likes (S (VP to (VP (VP watch (NP television shows)) and (VP enjoys (NP playing (NP tennis) (PP with (NP colleagues)))))))))\n",
      "6 (S (NP the author) (VP likes (S (VP to (VP (VP watch (NP television shows)) and (VP enjoys (S (VP playing (NP tennis (PP with (NP colleagues)))))))))))\n",
      "\n",
      "17 (S (NP the author) (VP likes (S (VP to (VP (VP watch (NP television shows)) and (VP writes (PP (PP in (NP a journal)) (NP every day))))))))\n",
      "14 (S (NP the author) (VP likes (S (VP to (VP (VP watch (NP television shows)) and (VP writes (PP in (NP a journal)) (NP every day)))))))\n",
      "10 (S (NP the author) (VP (VP likes (S (VP to (VP watch (NP television shows))))) and (VP writes (PP in (NP a journal)) (NP every day))))\n",
      "\n",
      "22 (S (NP the author) (VP (VP is (ADJP twenty (ADVP (NP three years) old))) and (VP knows (NP (ADJP many different) foreign languages))))\n",
      "16 (S (NP the author) (VP (VP is (ADJP twenty (ADVP (NP three years) old))) and (VP knows (NP many different foreign languages))))\n",
      "9 (S (NP the author) (VP (VP is (ADJP (ADJP twenty) (ADVP (NP three years) old))) and (VP knows (NP (ADJP many different) foreign languages))))\n",
      "\n",
      "27 (S (NP the author) (VP (VP is (ADJP twenty (ADVP (NP three years) old))) and (VP likes (S (VP to (VP watch (NP television shows)))))))\n",
      "16 (S (NP the author) (VP (VP is (ADJP (ADJP twenty) (ADVP (NP three years) old))) and (VP likes (S (VP to (VP watch (NP television shows)))))))\n",
      "4 (S (S (NP the author) (VP is (ADJP twenty (ADVP (NP three years) old)))) and (VP likes (S (VP to (VP watch (NP television shows))))))\n",
      "\n"
     ]
    }
   ],
   "source": [
    "for i in range(10):\n",
    "    for tree, count in counted_pos_samples[i].most_common(3):\n",
    "        print(count, tree)\n",
    "    print()"
   ]
  },
  {
   "cell_type": "code",
   "execution_count": 70,
   "metadata": {
    "scrolled": false
   },
   "outputs": [
    {
     "name": "stdout",
     "output_type": "stream",
     "text": [
      "28 (S (NP the author) (VP (VP knows (NP many different foreign languages)) and (PP like (S (VP to (VP watch (NP television shows)))))))\n",
      "25 (S (NP the author) (VP knows (NP (NP many different foreign languages) and (PP like (S (VP to (VP watch (NP television shows))))))))\n",
      "7 (S (NP the author) (VP (VP knows (NP many different foreign languages)) and (VP like (S (VP to (VP watch (NP television shows)))))))\n",
      "\n",
      "43 (S (NP the author) (VP (VP knows (NP many different foreign languages)) and (VP are (VP twenty (ADVP (NP three years) old)))))\n",
      "24 (S (NP the author) (VP (VP knows (NP many different foreign languages)) and (VP are (ADJP twenty (ADVP (NP three years) old)))))\n",
      "5 (S (NP the author) (VP (VP knows (NP many different foreign languages)) and (VP are twenty (ADVP (NP three years) old))))\n",
      "\n",
      "11 (S (NP the author) (VP (VP knows (NP many different foreign languages)) and (VP enjoy (S (VP (NP playing (NP tennis)) (PP with (NP colleagues)))))))\n",
      "10 (S (NP the author) (VP (VP knows (NP many different foreign languages)) and (VP enjoy (NP (NP playing (NP tennis)) (PP with (NP colleagues))))))\n",
      "9 (S (NP the author) (VP (VP knows (NP many different foreign languages)) and (VP enjoy (S (VP playing tennis (PP with (NP colleagues)))))))\n",
      "\n",
      "28 (S (NP the author) (VP (VP knows (NP many different foreign languages)) and (VP write (PP (PP in (NP a journal)) (NP every day)))))\n",
      "25 (S (NP the author) (VP (VP knows (NP many different foreign languages)) and (VP write (PP in (NP a journal)) (NP every day))))\n",
      "17 (S (NP the author) (VP (VP knows (NP many different foreign languages)) and (VP write (PP in (NP (NP a journal) (NP every day))))))\n",
      "\n",
      "35 (S (NP the author) (VP likes (S (VP to (VP (VP watch (NP television shows)) and (VP know (NP (ADJP many different) foreign languages)))))))\n",
      "19 (S (NP the author) (VP likes (S (VP to (VP (VP watch (NP television shows)) and (VP know (NP many different foreign languages)))))))\n",
      "14 (S (NP the author) (VP (VP likes (S (VP to (VP watch (NP television shows))))) and (VP know (NP many different foreign languages))))\n",
      "\n",
      "41 (S (NP the author) (VP (VP likes (S (VP to (VP watch (NP television shows))))) and (VP are (ADJP twenty (ADVP (NP three years) old)))))\n",
      "9 (S (NP the author) (VP (VP likes (S (VP to (VP watch (NP television shows))))) and (VP are (VP twenty (ADVP (NP three years) old)))))\n",
      "8 (S (NP the author) (VP (VP likes (S (VP to (VP watch (NP television shows))))) and (VP are twenty (ADVP (NP three years) old))))\n",
      "\n",
      "8 (S (NP the author) (VP likes (S (VP to (VP (VP watch (NP television shows)) and (VP enjoy (S (VP (NP playing (NP tennis)) (PP with (NP colleagues))))))))))\n",
      "8 (S (NP the author) (VP likes (S (VP to (VP (VP watch (NP television shows)) and (VP enjoy (NP (NP playing (NP tennis)) (PP with (NP colleagues)))))))))\n",
      "7 (S (NP the author) (VP likes (S (VP to (VP (VP watch (NP television shows)) and (VP enjoy (NP (NP playing tennis) (PP with (NP colleagues)))))))))\n",
      "\n",
      "13 (S (NP the author) (VP likes (S (VP to (VP (VP watch (NP television shows)) and (VP write (PP (PP in (NP a journal)) (NP every day))))))))\n",
      "10 (S (NP the author) (VP likes (S (VP to (VP (VP watch (NP television shows)) and (VP write (PP in (NP a journal)) (NP every day)))))))\n",
      "7 (S (NP the author) (VP likes (S (VP to (VP (VP watch (NP television shows)) and (VP write (PP in (NP (NP a journal) (NP every day)))))))))\n",
      "\n",
      "21 (S (NP the author) (VP (VP is (ADJP twenty (ADVP (NP three years) old))) and (VP know (NP (ADJP many different) foreign languages))))\n",
      "16 (S (NP the author) (VP (VP is (ADJP twenty (ADVP (NP three years) old))) and (VP know (NP many different foreign languages))))\n",
      "13 (S (NP the author) (VP (VP is (ADJP (ADJP twenty) (ADVP (NP three years) old))) and (VP know (NP many different foreign languages))))\n",
      "\n",
      "12 (S (S (NP the author) (VP is (ADJP twenty (ADVP (NP three years) old)))) and (PP like (S (VP to (VP watch (NP television shows))))))\n",
      "6 (S (NP the author) (VP (VP is (ADJP (ADJP twenty) (ADVP (NP three years) old))) and (PP like (S (VP to (VP watch (NP television shows)))))))\n",
      "6 (S (S (NP the author) (VP is (ADJP (ADJP twenty) (ADVP (NP three years) old)))) and (PP like (S (VP to (VP watch (NP television shows))))))\n",
      "\n"
     ]
    }
   ],
   "source": [
    "for i in range(10):\n",
    "    for tree, count in counted_neg_samples[i].most_common(3):\n",
    "        print(count, tree)\n",
    "    print()\n"
   ]
  },
  {
   "cell_type": "code",
   "execution_count": 53,
   "metadata": {},
   "outputs": [
    {
     "ename": "TypeError",
     "evalue": "sequence item 0: expected str instance, int found",
     "output_type": "error",
     "traceback": [
      "\u001b[0;31m---------------------------------------------------------------------------\u001b[0m",
      "\u001b[0;31mTypeError\u001b[0m                                 Traceback (most recent call last)",
      "\u001b[0;32m<ipython-input-53-220d0d4a4274>\u001b[0m in \u001b[0;36m<module>\u001b[0;34m()\u001b[0m\n\u001b[0;32m----> 1\u001b[0;31m \u001b[0mprint\u001b[0m\u001b[0;34m(\u001b[0m\u001b[0;34m'\\n\\n> '\u001b[0m\u001b[0;34m.\u001b[0m\u001b[0mjoin\u001b[0m\u001b[0;34m(\u001b[0m\u001b[0msorted_pos_samples\u001b[0m\u001b[0;34m[\u001b[0m\u001b[0;36m0\u001b[0m\u001b[0;34m]\u001b[0m\u001b[0;34m.\u001b[0m\u001b[0mkeys\u001b[0m\u001b[0;34m(\u001b[0m\u001b[0;34m)\u001b[0m\u001b[0;34m)\u001b[0m\u001b[0;34m)\u001b[0m\u001b[0;34m\u001b[0m\u001b[0m\n\u001b[0m",
      "\u001b[0;31mTypeError\u001b[0m: sequence item 0: expected str instance, int found"
     ]
    }
   ],
   "source": [
    "print('\\n\\n> '.join(sorted_pos_samples[0].keys()))"
   ]
  },
  {
   "cell_type": "code",
   "execution_count": null,
   "metadata": {
    "collapsed": true
   },
   "outputs": [],
   "source": []
  }
 ],
 "metadata": {
  "kernelspec": {
   "display_name": "Python 3",
   "language": "python",
   "name": "python3"
  },
  "language_info": {
   "codemirror_mode": {
    "name": "ipython",
    "version": 3
   },
   "file_extension": ".py",
   "mimetype": "text/x-python",
   "name": "python",
   "nbconvert_exporter": "python",
   "pygments_lexer": "ipython3",
   "version": "3.6.3"
  }
 },
 "nbformat": 4,
 "nbformat_minor": 2
}
