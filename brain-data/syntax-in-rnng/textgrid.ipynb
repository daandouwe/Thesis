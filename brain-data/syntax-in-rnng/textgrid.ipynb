{
 "cells": [
  {
   "cell_type": "code",
   "execution_count": 24,
   "metadata": {},
   "outputs": [],
   "source": [
    "from pprint import pprint\n",
    "from praatio import tgio"
   ]
  },
  {
   "cell_type": "code",
   "execution_count": 31,
   "metadata": {},
   "outputs": [
    {
     "name": "stdout",
     "output_type": "stream",
     "text": [
      "['word']\n"
     ]
    }
   ],
   "source": [
    "tg = tgio.openTextgrid(\"alice_stim_shared/DownTheRabbitHoleFinal_exp120_pad_1.TextGrid\")\n",
    "print(tg.tierNameList)"
   ]
  },
  {
   "cell_type": "code",
   "execution_count": 32,
   "metadata": {},
   "outputs": [],
   "source": [
    "word_tier = tg.tierDict['word']"
   ]
  },
  {
   "cell_type": "code",
   "execution_count": 30,
   "metadata": {},
   "outputs": [
    {
     "name": "stdout",
     "output_type": "stream",
     "text": [
      "[('sp', 12.073065986394568, 20.05891632653599, 7.985850340141422),\n",
      " ('Alice', 20.05891632653599, 20.621637414967992, 0.5627210884320029),\n",
      " ('was', 20.621637414967992, 20.843458754854613, 0.22182133988662045),\n",
      " ('beginning', 20.843458754854613, 21.31584508408829, 0.47238632923367874),\n",
      " ('to', 21.31584508408829, 21.411841496599994, 0.09599641251170254),\n",
      " ('get', 21.411841496599994, 21.675242857147992, 0.26340136054799856),\n",
      " ('very', 21.675242857147992, 22.369664625847992, 0.6944217686999998),\n",
      " ('tired', 22.369664625847992, 22.85883395867253, 0.4891693328245381),\n",
      " ('of', 22.85883395867253, 22.997627880148404, 0.1387939214758731),\n",
      " ('sitting', 22.997627880148404, 23.363406122443994, 0.3657782422955904)]\n"
     ]
    }
   ],
   "source": [
    "items = []\n",
    "for start, stop, label in word_tier.entryList:\n",
    "    items.append((label, start, stop, stop - start))\n",
    "\n",
    "pprint(items[:10])"
   ]
  },
  {
   "cell_type": "code",
   "execution_count": null,
   "metadata": {
    "collapsed": true
   },
   "outputs": [],
   "source": []
  }
 ],
 "metadata": {
  "kernelspec": {
   "display_name": "Python 3",
   "language": "python",
   "name": "python3"
  },
  "language_info": {
   "codemirror_mode": {
    "name": "ipython",
    "version": 3
   },
   "file_extension": ".py",
   "mimetype": "text/x-python",
   "name": "python",
   "nbconvert_exporter": "python",
   "pygments_lexer": "ipython3",
   "version": "3.6.3"
  }
 },
 "nbformat": 4,
 "nbformat_minor": 2
}
