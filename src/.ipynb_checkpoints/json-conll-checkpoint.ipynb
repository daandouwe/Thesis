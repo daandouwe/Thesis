{
 "cells": [
  {
   "cell_type": "code",
   "execution_count": 1,
   "metadata": {},
   "outputs": [
    {
     "name": "stdout",
     "output_type": "stream",
     "text": [
      "1700\n"
     ]
    }
   ],
   "source": [
    "import json\n",
    "\n",
    "data_path  = '../data/ptb/dep/json/dev-stanford-raw.json'\n",
    "\n",
    "data = json.load(open(data_path))\n",
    "\n",
    "print(len(data))"
   ]
  },
  {
   "cell_type": "code",
   "execution_count": 7,
   "metadata": {},
   "outputs": [],
   "source": [
    "d = data[0]"
   ]
  },
  {
   "cell_type": "code",
   "execution_count": 10,
   "metadata": {},
   "outputs": [
    {
     "data": {
      "text/plain": [
       "{'id': 0,\n",
       " 'paragraphs': [{'sentences': [{'tokens': [{'dep': 'amod',\n",
       "       'head': 1,\n",
       "       'orth': 'Influential',\n",
       "       'tag': 'JJ'},\n",
       "      {'dep': 'nsubj', 'head': 8, 'orth': 'members', 'tag': 'NNS'},\n",
       "      {'dep': 'prep', 'head': -1, 'orth': 'of', 'tag': 'IN'},\n",
       "      {'dep': 'det', 'head': 2, 'orth': 'the', 'tag': 'DT'},\n",
       "      {'dep': 'nn', 'head': 1, 'orth': 'House', 'tag': 'NNP'},\n",
       "      {'dep': 'pobj', 'head': -3, 'orth': 'Ways', 'tag': 'NNP'},\n",
       "      {'dep': 'cc', 'head': -1, 'orth': 'and', 'tag': 'CC'},\n",
       "      {'dep': 'nn', 'head': 1, 'orth': 'Means', 'tag': 'NNP'},\n",
       "      {'dep': 'conj', 'head': -3, 'orth': 'Committee', 'tag': 'NNP'},\n",
       "      {'dep': 'ROOT', 'head': 0, 'orth': 'introduced', 'tag': 'VBD'},\n",
       "      {'dep': 'dobj', 'head': -1, 'orth': 'legislation', 'tag': 'NN'},\n",
       "      {'dep': 'nsubj', 'head': 2, 'orth': 'that', 'tag': 'WDT'},\n",
       "      {'dep': 'aux', 'head': 1, 'orth': 'would', 'tag': 'MD'},\n",
       "      {'dep': 'rcmod', 'head': -3, 'orth': 'restrict', 'tag': 'VB'},\n",
       "      {'dep': 'advmod', 'head': 7, 'orth': 'how', 'tag': 'WRB'},\n",
       "      {'dep': 'det', 'head': 4, 'orth': 'the', 'tag': 'DT'},\n",
       "      {'dep': 'amod', 'head': 3, 'orth': 'new', 'tag': 'JJ'},\n",
       "      {'dep': 'nn', 'head': 2, 'orth': 'savings-and-loan', 'tag': 'NN'},\n",
       "      {'dep': 'nn', 'head': 1, 'orth': 'bailout', 'tag': 'NN'},\n",
       "      {'dep': 'nsubj', 'head': 2, 'orth': 'agency', 'tag': 'NN'},\n",
       "      {'dep': 'aux', 'head': 1, 'orth': 'can', 'tag': 'MD'},\n",
       "      {'dep': 'ccomp', 'head': -8, 'orth': 'raise', 'tag': 'VB'},\n",
       "      {'dep': 'dobj', 'head': -1, 'orth': 'capital', 'tag': 'NN'},\n",
       "      {'dep': 'punct', 'head': -10, 'orth': ',', 'tag': ','},\n",
       "      {'dep': 'xcomp', 'head': -11, 'orth': 'creating', 'tag': 'VBG'},\n",
       "      {'dep': 'det', 'head': 2, 'orth': 'another', 'tag': 'DT'},\n",
       "      {'dep': 'amod', 'head': 1, 'orth': 'potential', 'tag': 'JJ'},\n",
       "      {'dep': 'dobj', 'head': -3, 'orth': 'obstacle', 'tag': 'NN'},\n",
       "      {'dep': 'prep', 'head': -1, 'orth': 'to', 'tag': 'TO'},\n",
       "      {'dep': 'det', 'head': 1, 'orth': 'the', 'tag': 'DT'},\n",
       "      {'dep': 'poss', 'head': 2, 'orth': 'government', 'tag': 'NN'},\n",
       "      {'dep': 'possessive', 'head': -1, 'orth': \"'s\", 'tag': 'POS'},\n",
       "      {'dep': 'pobj', 'head': -4, 'orth': 'sale', 'tag': 'NN'},\n",
       "      {'dep': 'prep', 'head': -1, 'orth': 'of', 'tag': 'IN'},\n",
       "      {'dep': 'amod', 'head': 1, 'orth': 'sick', 'tag': 'JJ'},\n",
       "      {'dep': 'pobj', 'head': -2, 'orth': 'thrifts', 'tag': 'NNS'},\n",
       "      {'dep': 'punct', 'head': -27, 'orth': '.', 'tag': '.'}]}]}]}"
      ]
     },
     "execution_count": 10,
     "metadata": {},
     "output_type": "execute_result"
    }
   ],
   "source": [
    "d"
   ]
  },
  {
   "cell_type": "code",
   "execution_count": 24,
   "metadata": {},
   "outputs": [
    {
     "data": {
      "text/plain": [
       "[{'tokens': [{'dep': 'amod', 'head': 1, 'orth': 'Influential', 'tag': 'JJ'},\n",
       "   {'dep': 'nsubj', 'head': 8, 'orth': 'members', 'tag': 'NNS'},\n",
       "   {'dep': 'prep', 'head': -1, 'orth': 'of', 'tag': 'IN'},\n",
       "   {'dep': 'det', 'head': 2, 'orth': 'the', 'tag': 'DT'},\n",
       "   {'dep': 'nn', 'head': 1, 'orth': 'House', 'tag': 'NNP'},\n",
       "   {'dep': 'pobj', 'head': -3, 'orth': 'Ways', 'tag': 'NNP'},\n",
       "   {'dep': 'cc', 'head': -1, 'orth': 'and', 'tag': 'CC'},\n",
       "   {'dep': 'nn', 'head': 1, 'orth': 'Means', 'tag': 'NNP'},\n",
       "   {'dep': 'conj', 'head': -3, 'orth': 'Committee', 'tag': 'NNP'},\n",
       "   {'dep': 'ROOT', 'head': 0, 'orth': 'introduced', 'tag': 'VBD'},\n",
       "   {'dep': 'dobj', 'head': -1, 'orth': 'legislation', 'tag': 'NN'},\n",
       "   {'dep': 'nsubj', 'head': 2, 'orth': 'that', 'tag': 'WDT'},\n",
       "   {'dep': 'aux', 'head': 1, 'orth': 'would', 'tag': 'MD'},\n",
       "   {'dep': 'rcmod', 'head': -3, 'orth': 'restrict', 'tag': 'VB'},\n",
       "   {'dep': 'advmod', 'head': 7, 'orth': 'how', 'tag': 'WRB'},\n",
       "   {'dep': 'det', 'head': 4, 'orth': 'the', 'tag': 'DT'},\n",
       "   {'dep': 'amod', 'head': 3, 'orth': 'new', 'tag': 'JJ'},\n",
       "   {'dep': 'nn', 'head': 2, 'orth': 'savings-and-loan', 'tag': 'NN'},\n",
       "   {'dep': 'nn', 'head': 1, 'orth': 'bailout', 'tag': 'NN'},\n",
       "   {'dep': 'nsubj', 'head': 2, 'orth': 'agency', 'tag': 'NN'},\n",
       "   {'dep': 'aux', 'head': 1, 'orth': 'can', 'tag': 'MD'},\n",
       "   {'dep': 'ccomp', 'head': -8, 'orth': 'raise', 'tag': 'VB'},\n",
       "   {'dep': 'dobj', 'head': -1, 'orth': 'capital', 'tag': 'NN'},\n",
       "   {'dep': 'punct', 'head': -10, 'orth': ',', 'tag': ','},\n",
       "   {'dep': 'xcomp', 'head': -11, 'orth': 'creating', 'tag': 'VBG'},\n",
       "   {'dep': 'det', 'head': 2, 'orth': 'another', 'tag': 'DT'},\n",
       "   {'dep': 'amod', 'head': 1, 'orth': 'potential', 'tag': 'JJ'},\n",
       "   {'dep': 'dobj', 'head': -3, 'orth': 'obstacle', 'tag': 'NN'},\n",
       "   {'dep': 'prep', 'head': -1, 'orth': 'to', 'tag': 'TO'},\n",
       "   {'dep': 'det', 'head': 1, 'orth': 'the', 'tag': 'DT'},\n",
       "   {'dep': 'poss', 'head': 2, 'orth': 'government', 'tag': 'NN'},\n",
       "   {'dep': 'possessive', 'head': -1, 'orth': \"'s\", 'tag': 'POS'},\n",
       "   {'dep': 'pobj', 'head': -4, 'orth': 'sale', 'tag': 'NN'},\n",
       "   {'dep': 'prep', 'head': -1, 'orth': 'of', 'tag': 'IN'},\n",
       "   {'dep': 'amod', 'head': 1, 'orth': 'sick', 'tag': 'JJ'},\n",
       "   {'dep': 'pobj', 'head': -2, 'orth': 'thrifts', 'tag': 'NNS'},\n",
       "   {'dep': 'punct', 'head': -27, 'orth': '.', 'tag': '.'}]}]"
      ]
     },
     "execution_count": 24,
     "metadata": {},
     "output_type": "execute_result"
    }
   ],
   "source": [
    "p = d['paragraphs'][0]['sentences']\n",
    "p"
   ]
  },
  {
   "cell_type": "code",
   "execution_count": 25,
   "metadata": {},
   "outputs": [
    {
     "ename": "TypeError",
     "evalue": "list indices must be integers or slices, not str",
     "output_type": "error",
     "traceback": [
      "\u001b[0;31m---------------------------------------------------------------------------\u001b[0m",
      "\u001b[0;31mTypeError\u001b[0m                                 Traceback (most recent call last)",
      "\u001b[0;32m<ipython-input-25-78315a6e78a4>\u001b[0m in \u001b[0;36m<module>\u001b[0;34m()\u001b[0m\n\u001b[0;32m----> 1\u001b[0;31m \u001b[0;32mfor\u001b[0m \u001b[0mk\u001b[0m \u001b[0;32min\u001b[0m \u001b[0mp\u001b[0m\u001b[0;34m[\u001b[0m\u001b[0;34m'sentences'\u001b[0m\u001b[0;34m]\u001b[0m\u001b[0;34m.\u001b[0m\u001b[0mkeys\u001b[0m\u001b[0;34m(\u001b[0m\u001b[0;34m)\u001b[0m\u001b[0;34m:\u001b[0m\u001b[0;34m\u001b[0m\u001b[0m\n\u001b[0m\u001b[1;32m      2\u001b[0m     \u001b[0mprint\u001b[0m\u001b[0;34m(\u001b[0m\u001b[0mk\u001b[0m\u001b[0;34m)\u001b[0m\u001b[0;34m\u001b[0m\u001b[0m\n",
      "\u001b[0;31mTypeError\u001b[0m: list indices must be integers or slices, not str"
     ]
    }
   ],
   "source": [
    "for k in p['sentences'].keys():\n",
    "    print(k)"
   ]
  },
  {
   "cell_type": "code",
   "execution_count": null,
   "metadata": {
    "collapsed": true
   },
   "outputs": [],
   "source": []
  }
 ],
 "metadata": {
  "kernelspec": {
   "display_name": "Python 3",
   "language": "python",
   "name": "python3"
  },
  "language_info": {
   "codemirror_mode": {
    "name": "ipython",
    "version": 3
   },
   "file_extension": ".py",
   "mimetype": "text/x-python",
   "name": "python",
   "nbconvert_exporter": "python",
   "pygments_lexer": "ipython3",
   "version": "3.6.3"
  }
 },
 "nbformat": 4,
 "nbformat_minor": 2
}
