{
 "cells": [
  {
   "cell_type": "code",
   "execution_count": 414,
   "metadata": {},
   "outputs": [
    {
     "data": {
      "text/plain": [
       "<torch._C.Generator at 0x10974bd90>"
      ]
     },
     "execution_count": 414,
     "metadata": {},
     "output_type": "execute_result"
    }
   ],
   "source": [
    "import torch\n",
    "import torch.nn as nn\n",
    "from torch.autograd import Variable\n",
    "import numpy as np\n",
    "import matplotlib.pyplot as plt\n",
    "\n",
    "from data import ParallelCorpus\n",
    "from model import EmbedAlign\n",
    "from util import Timer, AnnealKL, align, predict_alignments, eval_alignments\n",
    "\n",
    "np.random.seed(42)\n",
    "torch.manual_seed(42)"
   ]
  },
  {
   "cell_type": "code",
   "execution_count": 135,
   "metadata": {},
   "outputs": [
    {
     "name": "stdout",
     "output_type": "stream",
     "text": [
      "Loaded parallel corpus with 231164 lines.\n"
     ]
    }
   ],
   "source": [
    "e_train_path = 'hansards/train/train.e'\n",
    "e_dev_path = 'hansards/dev/dev.e'\n",
    "e_test_path = 'hansards/test/test.e'\n",
    "f_train_path = 'hansards/train/train.f'\n",
    "f_dev_path = 'hansards/dev/dev.f'\n",
    "f_test_path = 'hansards/test/test.f'\n",
    "\n",
    "l1_vocab_size = 10000\n",
    "l2_vocab_size = 10000\n",
    "max_lines = None\n",
    "length_ordered = False\n",
    "emb_dim = 50\n",
    "hidden_dim = 50\n",
    "z_dim = 50\n",
    "batch_size = 32\n",
    "num_epochs = 5\n",
    "learning_rate = 1e-3\n",
    "print_every = 10\n",
    "save_every = 1000\n",
    "write_every = 100\n",
    "mean_sent = True\n",
    "\n",
    "corpus = ParallelCorpus(e_train_path, e_dev_path, e_test_path,\n",
    "                          f_train_path, f_dev_path, f_test_path,\n",
    "                          l1_vocab_size, l2_vocab_size,\n",
    "                          max_lines, ordered=length_ordered)"
   ]
  },
  {
   "cell_type": "code",
   "execution_count": 455,
   "metadata": {},
   "outputs": [],
   "source": [
    "model = torch.load('models/model.pt')"
   ]
  },
  {
   "cell_type": "code",
   "execution_count": 456,
   "metadata": {},
   "outputs": [],
   "source": [
    "def make_sent(x, l1=True):\n",
    "    if l1:\n",
    "        sent = [corpus.l1.dictionary.i2w[i] for i in x.data.numpy()]\n",
    "    else:\n",
    "        sent = [corpus.l2.dictionary.i2w[i] for i in x.data.numpy()]\n",
    "    return ' '.join(sent)"
   ]
  },
  {
   "cell_type": "code",
   "execution_count": 457,
   "metadata": {},
   "outputs": [
    {
     "name": "stdout",
     "output_type": "stream",
     "text": [
      "torch.Size([2, 40])\n",
      "torch.Size([2, 44])\n",
      "\n",
      "English:\n",
      "0 : i should point out that mr. shortliffe explicitly recommended that the new city be designated as bilingual by the ontario legislature and not by ottawa ' s new municipal council . <pad> <pad> <pad> <pad> <pad> <pad> <pad> <pad> <pad>\n",
      "1 : moreover , mr. shortliffe noted that it will be up to the city of ottawa ' s senior council to determine the scope and nature of the services that will be available in both official languages of the country .\n",
      "\n",
      "French:\n",
      "0 : je dois noter quem. de a , de façon explicite , recommandé que la nouvelle cité soit désignée bilingue par la législature de le ontario et non pas par le nouveau conseil de la municipalité de ottawa . <pad> <pad> <pad> <pad> <pad> <pad>\n",
      "1 : de plus , m. de a noté que il sera de le ressort de le haut conseil de la cité de ottawa de déterminer la portée et la nature de les services qui seront disponibles dans les deux langues officielles de le pays .\n"
     ]
    }
   ],
   "source": [
    "batch_size = 2\n",
    "batches = corpus.batches(batch_size)\n",
    "x, y = next(batches)\n",
    "print(x.shape)\n",
    "print(y.shape)\n",
    "\n",
    "print(\"\\nEnglish:\")\n",
    "for k in range(batch_size):\n",
    "    e = make_sent(x[k])\n",
    "    print(k, ':', e)\n",
    "    \n",
    "print('\\nFrench:')\n",
    "for k in range(batch_size):\n",
    "    f = make_sent(y[k], l1=False)\n",
    "    print(k, ':', f)"
   ]
  },
  {
   "cell_type": "code",
   "execution_count": 458,
   "metadata": {},
   "outputs": [],
   "source": [
    "mu, sigma = model.encoder(x)\n",
    "z = model.sample(mu, sigma)\n",
    "\n",
    "px = model.f(z)\n",
    "py = model.g(z)          "
   ]
  },
  {
   "cell_type": "code",
   "execution_count": 459,
   "metadata": {},
   "outputs": [],
   "source": [
    "def make_alignment(x, y, py, e, f):\n",
    "    a = align(x, y, py)\n",
    "    e = e.split()\n",
    "    f = f.split()\n",
    "    n = len(f)\n",
    "    pairs = list(zip(range(n), a[0,:n]))\n",
    "    return [(f[i], e[j]) for i, j in pairs]"
   ]
  },
  {
   "cell_type": "code",
   "execution_count": 460,
   "metadata": {},
   "outputs": [
    {
     "data": {
      "text/plain": [
       "[('de', 'moreover'),\n",
       " ('plus', 'moreover'),\n",
       " (',', ','),\n",
       " ('m.', 'be'),\n",
       " ('de', 'the'),\n",
       " ('a', 'to'),\n",
       " ('noté', 'senior'),\n",
       " ('que', 'the'),\n",
       " ('il', \"'\"),\n",
       " ('sera', 'will'),\n",
       " ('de', 'senior'),\n",
       " ('le', 'be'),\n",
       " ('ressort', 'up'),\n",
       " ('de', 'nature'),\n",
       " ('le', 'the'),\n",
       " ('haut', 'nature'),\n",
       " ('conseil', 'of'),\n",
       " ('de', 'ottawa'),\n",
       " ('la', 's'),\n",
       " ('cité', 'senior'),\n",
       " ('de', 'nature'),\n",
       " ('ottawa', 'determine'),\n",
       " ('de', 'the'),\n",
       " ('déterminer', 'to'),\n",
       " ('la', 'to'),\n",
       " ('portée', 'the'),\n",
       " ('et', 'scope'),\n",
       " ('la', 'scope'),\n",
       " ('nature', 'senior'),\n",
       " ('de', 'to'),\n",
       " ('les', 'services'),\n",
       " ('services', 'will'),\n",
       " ('qui', 'the'),\n",
       " ('seront', 'nature'),\n",
       " ('disponibles', 'city'),\n",
       " ('dans', 'the'),\n",
       " ('les', 'nature'),\n",
       " ('deux', 'be'),\n",
       " ('langues', 'it'),\n",
       " ('officielles', 'it'),\n",
       " ('de', 'it'),\n",
       " ('le', 'it'),\n",
       " ('pays', 'it'),\n",
       " ('.', 'it')]"
      ]
     },
     "execution_count": 460,
     "metadata": {},
     "output_type": "execute_result"
    }
   ],
   "source": [
    "pairs = make_alignment(x, y, py, e, f)\n",
    "pairs"
   ]
  },
  {
   "cell_type": "code",
   "execution_count": 461,
   "metadata": {},
   "outputs": [
    {
     "name": "stdout",
     "output_type": "stream",
     "text": [
      "i should point out that mr. shortliffe explicitly recommended that the new city be designated as bilingual by the ontario legislature and not by ottawa ' s new municipal council . talking no. make advisable has federal thousands has monitoring \n",
      "\n",
      "i should point out that mr. shortliffe explicitly recommended that the new city be designated as bilingual by the ontario legislature and not by ottawa ' s new municipal council . <pad> <pad> <pad> <pad> <pad> <pad> <pad> <pad> <pad> \n",
      "\n",
      "\n",
      "moreover , mr. shortliffe noted that it will be up to the city of ottawa ' s senior council to determine the scope and nature of the services that will be available in both official languages of the country . \n",
      "\n",
      "moreover , mr. shortliffe noted that it will be up to the city of ottawa ' s senior council to determine the scope and nature of the services that will be available in both official languages of the country . \n",
      "\n",
      "\n"
     ]
    }
   ],
   "source": [
    "for i in range(batch_size):\n",
    "    s = px[i]\n",
    "    _, pred = s.max(dim=-1)\n",
    "    print_sent(pred)\n",
    "    print_sent(x[i])\n",
    "    print()"
   ]
  },
  {
   "cell_type": "code",
   "execution_count": 462,
   "metadata": {},
   "outputs": [
    {
     "name": "stdout",
     "output_type": "stream",
     "text": [
      "je devrait règlement de que . glen explicitement recommandé que de nouveau ville de conséquences comme bilingue par de ontario législative et ne par ottawa nisga' de nouveau municipalités conseil . il . les civiles mike yvon bob mme vanclief \n",
      "\n",
      "je dois noter quem. de a , de façon explicite , recommandé que la nouvelle cité soit désignée bilingue par la législature de le ontario et non pas par le nouveau conseil de la municipalité de ottawa . <pad> <pad> <pad> <pad> <pad> <pad> \n",
      "\n",
      "\n",
      "plus , . glen de que il va être de à de la de ottawa le de de conseil à déterminer le portée et la de le services que de de les dans deux officielles langues de de pays . \n",
      "\n",
      "de plus , m. de a noté que il sera de le ressort de le haut conseil de la cité de ottawa de déterminer la portée et la nature de les services qui seront disponibles dans les deux langues officielles de le pays . \n",
      "\n",
      "\n"
     ]
    }
   ],
   "source": [
    "for i in range(batch_size):\n",
    "    s = py[i]\n",
    "    _, pred = s.max(dim=-1)\n",
    "    print_sent(pred, l1=False)\n",
    "    print_sent(y[i], l1=False)\n",
    "    print()"
   ]
  },
  {
   "cell_type": "code",
   "execution_count": 463,
   "metadata": {},
   "outputs": [
    {
     "name": "stdout",
     "output_type": "stream",
     "text": [
      "0: solutions (0.837)\n",
      "1: a (0.039)\n",
      "2: has (0.028)\n",
      "3: issue (0.016)\n",
      "4: fact (0.014)\n",
      "5: make (0.011)\n",
      "6: did (0.007)\n",
      "7: those (0.005)\n",
      "8: unanimity (0.005)\n",
      "9: 1997 (0.004)\n"
     ]
    }
   ],
   "source": [
    "zero, one = Variable(torch.zeros(z_dim)), Variable(torch.ones(z_dim))\n",
    "normal = torch.distributions.Normal(zero, one)\n",
    "z = normal.sample()\n",
    "\n",
    "px = model.f(z)\n",
    "py = model.g(z)\n",
    "\n",
    "px = px.data.numpy()\n",
    "py = py.data.numpy()\n",
    "\n",
    "ix = np.argsort(px)[::-1]\n",
    "p = np.sort(px)[::-1]\n",
    "for i in range(10):\n",
    "    print('{}: {} ({:.3f})'.format(i, corpus.l1.dictionary.i2w[ix[i]], p[i]))"
   ]
  },
  {
   "cell_type": "code",
   "execution_count": 464,
   "metadata": {
    "collapsed": true
   },
   "outputs": [],
   "source": [
    "def homotopy(start, end, steps=10, k=10):\n",
    "    lmbdas = np.linspace(0, 1, steps)\n",
    "    for k, lmbda in enumerate(lmbdas):\n",
    "        lmbda = float(lmbda)\n",
    "        z = lmbda*end + (1-lmbda)*start\n",
    "        px = model.f(z)\n",
    "        py = model.g(z)\n",
    "\n",
    "        px = px.data.numpy()\n",
    "        py = py.data.numpy()\n",
    "\n",
    "        ix = np.argsort(px)[::-1]\n",
    "        px = np.sort(px)[::-1]\n",
    "        py = np.sort(py)[::-1]\n",
    "        print('Step {}/{}'.format(k, steps))\n",
    "        for i in range(10):\n",
    "            print('{}: {} ({:.3f}) || {} ({:.3f})'.format(i, \n",
    "                    corpus.l1.dictionary.i2w[ix[i]], px[i],\n",
    "                    corpus.l2.dictionary.i2w[ix[i]], py[i]))\n",
    "        print()"
   ]
  },
  {
   "cell_type": "code",
   "execution_count": 465,
   "metadata": {
    "scrolled": false
   },
   "outputs": [
    {
     "name": "stdout",
     "output_type": "stream",
     "text": [
      "Step 0/10\n",
      "0: parent (0.000) || maritime (0.001)\n",
      "1: desks (0.000) || réalisent (0.001)\n",
      "2: sixteen (0.000) || cohérent (0.000)\n",
      "3: armenian (0.000) || donateur (0.000)\n",
      "4: morrison (0.000) || bennett (0.000)\n",
      "5: 449 (0.000) || élémentaires (0.000)\n",
      "6: termed (0.000) || perquisitions (0.000)\n",
      "7: dump (0.000) || justifiées (0.000)\n",
      "8: museums (0.000) || malheur (0.000)\n",
      "9: 458 (0.000) || drapeaux (0.000)\n",
      "\n",
      "Step 1/10\n",
      "0: nault (0.541) || rouge (0.640)\n",
      "1: 47 (0.396) || touristique (0.162)\n",
      "2: going (0.042) || ici (0.068)\n",
      "3: caroline (0.021) || formulé (0.066)\n",
      "4: disagrees (0.000) || distances (0.037)\n",
      "5: indicated (0.000) || définitif (0.024)\n",
      "6: association (0.000) || seraient (0.001)\n",
      "7: stating (0.000) || désaccord (0.000)\n",
      "8: disputes (0.000) || regrettable (0.000)\n",
      "9: arguments (0.000) || divorce (0.000)\n",
      "\n",
      "Step 2/10\n",
      "0: nault (0.517) || rouge (0.885)\n",
      "1: 47 (0.471) || touristique (0.094)\n",
      "2: going (0.011) || ici (0.013)\n",
      "3: caroline (0.001) || formulé (0.004)\n",
      "4: disagrees (0.000) || distances (0.004)\n",
      "5: indicated (0.000) || définitif (0.001)\n",
      "6: association (0.000) || seraient (0.000)\n",
      "7: stating (0.000) || désaccord (0.000)\n",
      "8: disputes (0.000) || regrettable (0.000)\n",
      "9: arguments (0.000) || divorce (0.000)\n",
      "\n",
      "Step 3/10\n",
      "0: 47 (0.529) || touristique (0.955)\n",
      "1: nault (0.468) || rouge (0.042)\n",
      "2: going (0.003) || ici (0.002)\n",
      "3: caroline (0.000) || formulé (0.000)\n",
      "4: disagrees (0.000) || distances (0.000)\n",
      "5: indicated (0.000) || définitif (0.000)\n",
      "6: association (0.000) || seraient (0.000)\n",
      "7: stating (0.000) || désaccord (0.000)\n",
      "8: disputes (0.000) || regrettable (0.000)\n",
      "9: arguments (0.000) || divorce (0.000)\n",
      "\n",
      "Step 4/10\n",
      "0: 47 (0.584) || touristique (0.982)\n",
      "1: nault (0.415) || rouge (0.018)\n",
      "2: going (0.001) || ici (0.000)\n",
      "3: caroline (0.000) || formulé (0.000)\n",
      "4: disagrees (0.000) || distances (0.000)\n",
      "5: indicated (0.000) || définitif (0.000)\n",
      "6: association (0.000) || seraient (0.000)\n",
      "7: stating (0.000) || désaccord (0.000)\n",
      "8: disputes (0.000) || regrettable (0.000)\n",
      "9: arguments (0.000) || divorce (0.000)\n",
      "\n",
      "Step 5/10\n",
      "0: 47 (0.636) || touristique (0.992)\n",
      "1: nault (0.364) || rouge (0.008)\n",
      "2: going (0.000) || ici (0.000)\n",
      "3: caroline (0.000) || formulé (0.000)\n",
      "4: disagrees (0.000) || distances (0.000)\n",
      "5: indicated (0.000) || définitif (0.000)\n",
      "6: association (0.000) || seraient (0.000)\n",
      "7: stating (0.000) || désaccord (0.000)\n",
      "8: disputes (0.000) || regrettable (0.000)\n",
      "9: arguments (0.000) || divorce (0.000)\n",
      "\n",
      "Step 6/10\n",
      "0: 47 (0.685) || touristique (0.997)\n",
      "1: nault (0.315) || rouge (0.003)\n",
      "2: going (0.000) || ici (0.000)\n",
      "3: caroline (0.000) || formulé (0.000)\n",
      "4: disagrees (0.000) || distances (0.000)\n",
      "5: indicated (0.000) || définitif (0.000)\n",
      "6: association (0.000) || seraient (0.000)\n",
      "7: stating (0.000) || désaccord (0.000)\n",
      "8: disputes (0.000) || regrettable (0.000)\n",
      "9: arguments (0.000) || divorce (0.000)\n",
      "\n",
      "Step 7/10\n",
      "0: 47 (0.730) || touristique (0.999)\n",
      "1: nault (0.270) || rouge (0.001)\n",
      "2: going (0.000) || ici (0.000)\n",
      "3: caroline (0.000) || formulé (0.000)\n",
      "4: disagrees (0.000) || distances (0.000)\n",
      "5: indicated (0.000) || définitif (0.000)\n",
      "6: association (0.000) || seraient (0.000)\n",
      "7: stating (0.000) || désaccord (0.000)\n",
      "8: disputes (0.000) || regrettable (0.000)\n",
      "9: arguments (0.000) || divorce (0.000)\n",
      "\n",
      "Step 8/10\n",
      "0: 47 (0.771) || touristique (0.999)\n",
      "1: nault (0.229) || rouge (0.001)\n",
      "2: going (0.000) || ici (0.000)\n",
      "3: caroline (0.000) || formulé (0.000)\n",
      "4: disagrees (0.000) || distances (0.000)\n",
      "5: indicated (0.000) || définitif (0.000)\n",
      "6: association (0.000) || seraient (0.000)\n",
      "7: stating (0.000) || désaccord (0.000)\n",
      "8: disputes (0.000) || regrettable (0.000)\n",
      "9: arguments (0.000) || divorce (0.000)\n",
      "\n",
      "Step 9/10\n",
      "0: 47 (0.807) || touristique (1.000)\n",
      "1: nault (0.193) || rouge (0.000)\n",
      "2: going (0.000) || ici (0.000)\n",
      "3: caroline (0.000) || formulé (0.000)\n",
      "4: disagrees (0.000) || distances (0.000)\n",
      "5: indicated (0.000) || définitif (0.000)\n",
      "6: association (0.000) || seraient (0.000)\n",
      "7: stating (0.000) || désaccord (0.000)\n",
      "8: disputes (0.000) || regrettable (0.000)\n",
      "9: gross (0.000) || parallèle (0.000)\n",
      "\n"
     ]
    }
   ],
   "source": [
    "homotopy(zero, 100*one)"
   ]
  },
  {
   "cell_type": "code",
   "execution_count": null,
   "metadata": {
    "collapsed": true
   },
   "outputs": [],
   "source": []
  }
 ],
 "metadata": {
  "kernelspec": {
   "display_name": "Python 3",
   "language": "python",
   "name": "python3"
  },
  "language_info": {
   "codemirror_mode": {
    "name": "ipython",
    "version": 3
   },
   "file_extension": ".py",
   "mimetype": "text/x-python",
   "name": "python",
   "nbconvert_exporter": "python",
   "pygments_lexer": "ipython3",
   "version": "3.6.3"
  }
 },
 "nbformat": 4,
 "nbformat_minor": 2
}
